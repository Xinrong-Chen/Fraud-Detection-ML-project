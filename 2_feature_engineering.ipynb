{
 "cells": [
  {
   "cell_type": "markdown",
   "id": "d49e137f-4b18-4535-834b-533559440b48",
   "metadata": {},
   "source": [
    "# Overview\n",
    "\n",
    "This notebook documents my feature engineering process.<br>\n",
    "It answers my questions from exploration and gives me a better understanding of the dataset.\n",
    "\n",
    "The content includes:\n",
    "\n",
    "1. Handle missing values\n",
    "\n",
    "2. Investigate and transform DateTime columns\n",
    "\n",
    "3. Add features that could describe customers' or merchants' behavior\n",
    "\n",
    "Thank you for taking your time to go through my work."
   ]
  },
  {
   "cell_type": "code",
   "execution_count": 1,
   "id": "e3520464-fcf8-4b0f-ab8c-90ef836cb2d8",
   "metadata": {},
   "outputs": [],
   "source": [
    "# Import packages\n",
    "import pandas as pd\n",
    "import numpy as np\n",
    "from datetime import timedelta\n",
    "import matplotlib.pyplot as plt\n",
    "import seaborn as sns\n",
    "\n",
    "# Setup display\n",
    "pd.options.display.max_rows = 999\n",
    "pd.options.display.max_columns = 50"
   ]
  },
  {
   "cell_type": "code",
   "execution_count": 2,
   "id": "f88f3799-6236-4cd9-9a1c-dc4d9fe96d84",
   "metadata": {},
   "outputs": [],
   "source": [
    "file = pd.read_pickle('./data.pkl')"
   ]
  },
  {
   "cell_type": "markdown",
   "id": "a2ae91e6-d991-493c-88c4-ada40c691d1a",
   "metadata": {},
   "source": [
    "As the dataset is **highly imbalanced**, I will try to keep all the positive cases in the pre-processing period."
   ]
  },
  {
   "cell_type": "code",
   "execution_count": 3,
   "id": "472a794d-a4c9-4994-8256-25047857e7eb",
   "metadata": {},
   "outputs": [
    {
     "name": "stdout",
     "output_type": "stream",
     "text": [
      "Minority class takes up 1.58 % in this dataset, and 2.6 % in values.\n"
     ]
    }
   ],
   "source": [
    "print('Minority class takes up', round(len(file[file.isFraud==True])/len(file)*100,2),'% in this dataset, and',round(file[file.isFraud==True]['transactionAmount'].sum()/file.transactionAmount.sum()*100,2),'% in values.')"
   ]
  },
  {
   "cell_type": "markdown",
   "id": "9e06b195-0a20-40c8-a544-025600681254",
   "metadata": {},
   "source": [
    "## Missing values\n",
    "Techniques used here:\n",
    "1. Binarization\n",
    "2. Add unknown value to a new category\n",
    "3. Imputation\n",
    "4. Remove when it is hard to infer and takes up only a very small amount of data"
   ]
  },
  {
   "cell_type": "code",
   "execution_count": 4,
   "id": "240c98c2-9376-410c-9f2d-6933590dc36b",
   "metadata": {},
   "outputs": [],
   "source": [
    "def check_distribution(col):\n",
    "    global file\n",
    "    display(file.groupby([col])['transactionAmount'].count())\n",
    "    false,true = file[file[col].isna()].groupby('isFraud')['transactionAmount'].count().values\n",
    "    if true/(false+true) > 0.0158: print('True')\n",
    "    return None"
   ]
  },
  {
   "cell_type": "code",
   "execution_count": 5,
   "id": "60da8bc5-e6a4-4ba2-8d73-9d9db25cdb5f",
   "metadata": {},
   "outputs": [
    {
     "data": {
      "text/plain": [
       "acqCountry\n",
       "CAN      2424\n",
       "MEX      3130\n",
       "PR       1538\n",
       "US     774709\n",
       "Name: transactionAmount, dtype: int64"
      ]
     },
     "metadata": {},
     "output_type": "display_data"
    },
    {
     "name": "stdout",
     "output_type": "stream",
     "text": [
      "True\n"
     ]
    }
   ],
   "source": [
    "col = 'acqCountry'\n",
    "check_distribution(col)"
   ]
  },
  {
   "cell_type": "markdown",
   "id": "a04e19ae-625a-4cc4-8903-9d5b5476109a",
   "metadata": {},
   "source": [
    "Keep it since it can provide some information. **Combine** the non-US countries together as they are minority classes."
   ]
  },
  {
   "cell_type": "code",
   "execution_count": 6,
   "id": "43ebb669-b5da-42f9-bbd4-d3e530dd41d1",
   "metadata": {},
   "outputs": [],
   "source": [
    "file[col] = file[col].apply(lambda x: 1 if x == 'US' else 0)"
   ]
  },
  {
   "cell_type": "code",
   "execution_count": 7,
   "id": "65bd1d8f-f7b9-48f7-8241-fd275b29a8ae",
   "metadata": {},
   "outputs": [
    {
     "data": {
      "text/plain": [
       "merchantCountryCode\n",
       "CAN      2426\n",
       "MEX      3143\n",
       "PR       1559\n",
       "US     778511\n",
       "Name: transactionAmount, dtype: int64"
      ]
     },
     "metadata": {},
     "output_type": "display_data"
    },
    {
     "name": "stdout",
     "output_type": "stream",
     "text": [
      "True\n"
     ]
    }
   ],
   "source": [
    "col = 'merchantCountryCode'\n",
    "check_distribution(col)"
   ]
  },
  {
   "cell_type": "markdown",
   "id": "78fe799d-4281-49fa-91cb-a6fcd3b87b19",
   "metadata": {},
   "source": [
    "Missings' part has a lot of positive values. **Combine** non-US labels, add null as a **new** category."
   ]
  },
  {
   "cell_type": "code",
   "execution_count": 8,
   "id": "0b4cab19-05cb-4453-b0a4-25cfc79c95c8",
   "metadata": {},
   "outputs": [],
   "source": [
    "file[col].fillna(0, inplace=True)\n",
    "file[col] = file[col].apply(lambda x: 1 if x == 'US' else (x if x==0 else 2))"
   ]
  },
  {
   "cell_type": "code",
   "execution_count": 9,
   "id": "4c5347c5-2138-4b06-b6b6-3ca87136b3d9",
   "metadata": {},
   "outputs": [
    {
     "data": {
      "text/plain": [
       "posEntryMode\n",
       "02    195934\n",
       "05    315035\n",
       "09    236481\n",
       "80     15283\n",
       "90     19576\n",
       "Name: transactionAmount, dtype: int64"
      ]
     },
     "metadata": {},
     "output_type": "display_data"
    },
    {
     "name": "stdout",
     "output_type": "stream",
     "text": [
      "True\n"
     ]
    }
   ],
   "source": [
    "col = 'posEntryMode'\n",
    "check_distribution(col)"
   ]
  },
  {
   "cell_type": "markdown",
   "id": "8c752646-8573-4c81-882a-7573005155ae",
   "metadata": {},
   "source": [
    "Add as a **new** category."
   ]
  },
  {
   "cell_type": "code",
   "execution_count": 10,
   "id": "d37cce17-6465-401b-992b-020592513f83",
   "metadata": {},
   "outputs": [],
   "source": [
    "file[col].fillna(0, inplace=True)"
   ]
  },
  {
   "cell_type": "code",
   "execution_count": 11,
   "id": "c5403191-969d-45c3-8c9c-2f4ea5b58c7a",
   "metadata": {},
   "outputs": [
    {
     "data": {
      "text/plain": [
       "posConditionCode\n",
       "01    628787\n",
       "08    149634\n",
       "99      7533\n",
       "Name: transactionAmount, dtype: int64"
      ]
     },
     "metadata": {},
     "output_type": "display_data"
    },
    {
     "name": "stdout",
     "output_type": "stream",
     "text": [
      "True\n"
     ]
    }
   ],
   "source": [
    "col = 'posConditionCode'\n",
    "check_distribution('posConditionCode')"
   ]
  },
  {
   "cell_type": "markdown",
   "id": "85f073dd-df6b-4d38-b917-5864f54c6ecf",
   "metadata": {},
   "source": [
    "**Impute** as existing category 99, according to https://www.mreports.com/documentation/ac/nonmerchant/80449.htm there is no code 99, they might also be invalid."
   ]
  },
  {
   "cell_type": "code",
   "execution_count": 12,
   "id": "03ae136e-5c2f-4a7f-899e-ae2deb72fb78",
   "metadata": {},
   "outputs": [],
   "source": [
    "file[col].fillna('99', inplace=True)"
   ]
  },
  {
   "cell_type": "code",
   "execution_count": 13,
   "id": "9911760e-893b-4af3-b262-e4c75a637f4b",
   "metadata": {},
   "outputs": [
    {
     "data": {
      "text/plain": [
       "transactionType\n",
       "ADDRESS_VERIFICATION     20169\n",
       "PURCHASE                745193\n",
       "REVERSAL                 20303\n",
       "Name: transactionAmount, dtype: int64"
      ]
     },
     "metadata": {},
     "output_type": "display_data"
    },
    {
     "name": "stdout",
     "output_type": "stream",
     "text": [
      "True\n"
     ]
    }
   ],
   "source": [
    "col = 'transactionType'\n",
    "check_distribution('transactionType')"
   ]
  },
  {
   "cell_type": "markdown",
   "id": "6847aab1-82eb-46e5-a3c1-2c42a6326898",
   "metadata": {},
   "source": [
    "It's a little hard to infer these transactions, as in the previous sections. I decide to **drop** this one."
   ]
  },
  {
   "cell_type": "code",
   "execution_count": 14,
   "id": "6d761197-3f30-4ef3-94c1-345bf6bdde18",
   "metadata": {
    "scrolled": true,
    "tags": []
   },
   "outputs": [],
   "source": [
    "file.drop(file[file[col].isna()].index, axis=0, inplace=True)"
   ]
  },
  {
   "cell_type": "markdown",
   "id": "32b5b5d8-ca4e-4ff5-b0f0-0e8b689d6475",
   "metadata": {},
   "source": [
    "## Investigate datetime columns"
   ]
  },
  {
   "cell_type": "code",
   "execution_count": 15,
   "id": "343c4e6e-8bf9-439a-9917-171ab1f98031",
   "metadata": {},
   "outputs": [
    {
     "data": {
      "text/plain": [
       "accountNumber                         int64\n",
       "creditLimit                           int64\n",
       "availableMoney                      float64\n",
       "transactionDateTime          datetime64[ns]\n",
       "transactionAmount                   float64\n",
       "merchantName                         object\n",
       "acqCountry                            int64\n",
       "merchantCountryCode                   int64\n",
       "posEntryMode                         object\n",
       "posConditionCode                     object\n",
       "merchantCategoryCode                 object\n",
       "currentExpDate               datetime64[ns]\n",
       "accountOpenDate              datetime64[ns]\n",
       "dateOfLastAddressChange      datetime64[ns]\n",
       "cardCVV                               int64\n",
       "enteredCVV                            int64\n",
       "cardLast4Digits                       int64\n",
       "transactionType                      object\n",
       "currentBalance                      float64\n",
       "cardPresent                            bool\n",
       "expirationDateKeyInMatch               bool\n",
       "isFraud                                bool\n",
       "lastTransaction             timedelta64[ns]\n",
       "dtype: object"
      ]
     },
     "execution_count": 15,
     "metadata": {},
     "output_type": "execute_result"
    }
   ],
   "source": [
    "datetime_columns = ['currentExpDate', 'accountOpenDate', 'dateOfLastAddressChange']\n",
    "for col in datetime_columns:\n",
    "    file[col] = pd.to_datetime(file[col])\n",
    "file.dtypes"
   ]
  },
  {
   "cell_type": "code",
   "execution_count": 16,
   "id": "2d4735e6-be8e-4502-aaa7-51f8d0d305a6",
   "metadata": {},
   "outputs": [],
   "source": [
    "'''\n",
    "daysSinceOpen: Days since account open\n",
    "\n",
    "daysExpired: Days left before expire\n",
    "\n",
    "daysSinceAddressChange: Days since address change\n",
    "\n",
    "timeOfDay: devide 24 hours into 6 parts\n",
    "'''\n",
    "\n",
    "file['daysSinceOpen'] = (file.transactionDateTime - file.accountOpenDate).dt.days.astype(int)\n",
    "\n",
    "file['daysExpired'] = (file.currentExpDate - file.transactionDateTime).dt.days.astype(int)\n",
    "\n",
    "file['daysSinceAddressChange'] = (file.transactionDateTime - file.dateOfLastAddressChange).dt.days.astype(int)\n",
    "\n",
    "file[\"timeOfDay\"] = pd.cut(file.transactionDateTime.dt.hour, bins=6, labels=list(range(6)))\n"
   ]
  },
  {
   "cell_type": "code",
   "execution_count": 17,
   "id": "43cb85d0-bfa2-46d5-9075-8cbd093a5862",
   "metadata": {},
   "outputs": [],
   "source": [
    "file.drop(columns=datetime_columns, inplace=True)\n",
    "file.reset_index(inplace=True, drop=True)"
   ]
  },
  {
   "cell_type": "markdown",
   "id": "5f2d79c1-accc-4f31-9dc8-082702e08f61",
   "metadata": {},
   "source": [
    "## Add Features That Could Capture Customers' or Merchants' Behavior\n",
    "\n",
    "In this part, I think one important thing is to not introduce **information leak** to the model. \n",
    "\n",
    "So I try to avoid using **future records** to build the features(for example, **overall mean** of fraud that happened in the account on day1). Instead, I used **cumulative values**.\n",
    "\n",
    "With that in mind, I design the features to depict a customers' **long-term pattern**, like favorite merchants, past fraud records, and **short-term behavior**, such as current daily spending and if it is a frequent transaction."
   ]
  },
  {
   "cell_type": "markdown",
   "id": "cccb581e-1b03-4c93-b7a2-631cf2c10088",
   "metadata": {},
   "source": [
    "#### New Features\n",
    "\n",
    "**CVVMatch**: Boolean values. True if input CVV matched with card CVV.\n",
    "<br>**transactionDate**: Categorical feature. Time of day the transaction happened.\n",
    "<br>**dailySpend**: Continuous feature. Money already spend that day (before current transaction).\n",
    "<br>**pastFraudInAccount**: Ordinal feature. Number of past fraud associated with this account.\n",
    "<br>**pastVisitsToMerchant**: Ordinal feature. Number of past visits to this merchant associated with this account.\n",
    "<br>**multiSwipe**: Boolean values. Identified in Part 3.\n",
    "<br>**frequentiTransactions**: Boolean values. True if last transaction happened within 10 minutes.\n",
    "<br>**missingCardNumber**: Boolean values. Fields in cardLast4Digits sometimes are not a 4-digit number."
   ]
  },
  {
   "cell_type": "code",
   "execution_count": 18,
   "id": "04bff768-d402-431a-8130-94781e5e830f",
   "metadata": {
    "scrolled": true,
    "tags": []
   },
   "outputs": [],
   "source": [
    "file['CVVMatch'] = file['cardCVV'] == file['enteredCVV']\n",
    "\n",
    "file['transactionDate'] = file.transactionDateTime.dt.to_period(freq='D')\n",
    "\n",
    "file['dailySpend'] = file.sort_values(['accountNumber','transactionDate']).groupby(['accountNumber','transactionDate'])['transactionAmount'].cumsum()\n",
    "\n",
    "file['pastFraudInAccount'] = file.sort_values(['accountNumber', 'transactionDate']).groupby('accountNumber')['isFraud'].cumsum()\n",
    "\n",
    "file['pastVisitsToMerchant'] = file.groupby(['accountNumber','merchantName'])['transactionDateTime'].cumcount()\n",
    "\n",
    "file['pastFraudInMerchant'] = file.sort_values(['merchantName', 'transactionDate'], ascending=True)[['merchantName','isFraud']].groupby('merchantName').cumsum().sort_index()\n",
    "\n",
    "file['multiSwipe'] = ((file[['accountNumber', 'merchantName', 'transactionAmount', 'cardLast4Digits']].duplicated())\n",
    "                      & (file.lastTransaction < timedelta(hours=1)) \n",
    "                      & (file.transactionType=='PURCHASE'))\n",
    "\n",
    "file['frequentTransactions'] = (file['transactionDateTime'] - file.groupby('accountNumber')['transactionDateTime'].shift(1)) < timedelta(minutes=10)\n",
    "\n",
    "file['missingCardNumber'] = file.cardLast4Digits.apply(lambda x: True if len(str(x))!=4 else False)\n"
   ]
  },
  {
   "cell_type": "code",
   "execution_count": 19,
   "id": "214012d9-59fc-425b-909f-00e4170990c5",
   "metadata": {},
   "outputs": [],
   "source": [
    "file.drop(columns=['cardCVV', 'enteredCVV', 'transactionDate', 'lastTransaction'], inplace=True)"
   ]
  },
  {
   "cell_type": "code",
   "execution_count": 20,
   "id": "596e4798-f420-420a-aae2-05907a7c1e27",
   "metadata": {},
   "outputs": [
    {
     "data": {
      "image/png": "[encoded data removed]",
      "text/plain": [
       "<Figure size 1080x1440 with 12 Axes>"
      ]
     },
     "metadata": {
      "needs_background": "light"
     },
     "output_type": "display_data"
    }
   ],
   "source": [
    "# Take a look at the distribution of newly-added features\n",
    "\n",
    "features_of_interest = file.columns[17:]\n",
    "\n",
    "i, j = 0, 0\n",
    "rows = 3\n",
    "fig, axes = plt.subplots(round(len(features_of_interest)/rows), rows, figsize = (15, 20))\n",
    "for col in features_of_interest:\n",
    "\n",
    "    sns.histplot(data=file, x=col, bins = 50, hue = 'isFraud',\n",
    "                 ax = axes[i,j], shrink = 0.8, alpha = 0.5) # color= '#c5cff0', \n",
    "    axes[i,j].set_xlabel('')\n",
    "    axes[i,j].set_title(col)\n",
    "\n",
    "    if file[col].nunique() == 2:\n",
    "        axes[i,j].set_xticks([0.1,0.9])\n",
    "        axes[i,j].set_xticklabels(['True', 'False'])\n",
    "\n",
    "    if j == rows-1: \n",
    "        i += 1\n",
    "        j = 0\n",
    "    else: \n",
    "        j += 1\n",
    "\n",
    "plt.tight_layout()\n",
    "plt.show()"
   ]
  },
  {
   "cell_type": "markdown",
   "id": "428ed6b1-91f2-41cf-b3c7-ef1ef8773810",
   "metadata": {},
   "source": [
    "Most of the continuous variabels need to be normlized. "
   ]
  },
  {
   "cell_type": "markdown",
   "id": "efe9c5a3-b3af-4a88-a76b-e19098f47bd9",
   "metadata": {},
   "source": [
    "## Feature Summary\n",
    "\n",
    "**Continuous variables**:\n",
    "* currentBalance\n",
    "* availableMoney\n",
    "* transactionAmount\n",
    "* dailySpend\n",
    "* daysSinceOpen\n",
    "* daysExpired\n",
    "* daysSinceAddressChange\n",
    "* pastFraudInAccount\n",
    "* pastVisitsToMerchant\n",
    "* pastFraudInMerchant\n",
    "\n",
    "**Categorical variables**:\n",
    "* acqCountry\n",
    "* creditLimit\n",
    "* merchantCategoryCode\n",
    "* merchantCountryCode\n",
    "* posEntryMode\n",
    "* posConditionCode\n",
    "* transactionType\n",
    "* cardPresent\n",
    "* expirationDateKeyInMatch\n",
    "* timeOfDay\n",
    "* CVVMatch\n",
    "* multiSwipe\n",
    "* frequentTransactions\n",
    "* missingCardNumber\n",
    "\n",
    "**Target variable**:\n",
    "* isFraud\n"
   ]
  },
  {
   "cell_type": "code",
   "execution_count": 21,
   "id": "ca8e325b-c4e4-4f34-8ed5-82492a92e8fd",
   "metadata": {},
   "outputs": [],
   "source": [
    "pd.to_pickle(file, 'data.pkl')"
   ]
  },
  {
   "cell_type": "code",
   "execution_count": null,
   "id": "6d572885-0750-42b4-8d48-3912b552d3fc",
   "metadata": {},
   "outputs": [],
   "source": []
  }
 ],
 "metadata": {
  "kernelspec": {
   "display_name": "Python 3 (ipykernel)",
   "language": "python",
   "name": "python3"
  },
  "language_info": {
   "codemirror_mode": {
    "name": "ipython",
    "version": 3
   },
   "file_extension": ".py",
   "mimetype": "text/x-python",
   "name": "python",
   "nbconvert_exporter": "python",
   "pygments_lexer": "ipython3",
   "version": "3.9.10"
  }
 },
 "nbformat": 4,
 "nbformat_minor": 5
}
