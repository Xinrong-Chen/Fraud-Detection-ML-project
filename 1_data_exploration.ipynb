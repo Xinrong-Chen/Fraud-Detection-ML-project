{
 "cells": [
  {
   "cell_type": "markdown",
   "id": "18b5e73b-5e2f-440e-9e5b-ef17e5efb729",
   "metadata": {},
   "source": [
    "# Overview\n",
    "\n",
    "This notebook divides into three parts:\n",
    "\n",
    "1. Load\n",
    "\n",
    "2. Plot\n",
    "\n",
    "3. Data Wrangling\n",
    "\n",
    "It is to answer the first three questions of a Data Science Challenge. For each part, you can see my codes and visualization. I also documented my thinking process and insights in markdown.\n",
    "\n",
    "Thank you for taking your time to go through my work."
   ]
  },
  {
   "cell_type": "markdown",
   "id": "d7ed3aac-bb92-41a3-8689-8e87f6269ee6",
   "metadata": {
    "tags": []
   },
   "source": [
    "# Part 1: Load"
   ]
  },
  {
   "cell_type": "code",
   "execution_count": 1,
   "id": "d6a24988-f64e-4f57-b457-a8c3fd7d49ab",
   "metadata": {},
   "outputs": [],
   "source": [
    "## Import packages\n",
    "import pandas as pd\n",
    "import numpy as np\n",
    "from datetime import timedelta\n",
    "import matplotlib.pyplot as plt\n",
    "import seaborn as sns\n",
    "\n",
    "## Setup display\n",
    "pd.options.display.max_rows = 999\n",
    "pd.options.display.max_columns = 50"
   ]
  },
  {
   "cell_type": "markdown",
   "id": "40d6d6ed-d8a1-4ce7-8aa8-46ba4105e79d",
   "metadata": {
    "tags": []
   },
   "source": [
    "## Data Collection"
   ]
  },
  {
   "cell_type": "code",
   "execution_count": null,
   "id": "cf3019b0-539f-4eaf-99ca-f32664d01b01",
   "metadata": {
    "scrolled": true,
    "tags": []
   },
   "outputs": [],
   "source": [
    "# Data is not currently not available to the public."
   ]
  },
  {
   "cell_type": "code",
   "execution_count": 3,
   "id": "82733c5a-571a-434e-aadd-11992b22351d",
   "metadata": {},
   "outputs": [
    {
     "name": "stdout",
     "output_type": "stream",
     "text": [
      "Archive:  transactions.zip\n",
      "  inflating: transactions.txt        \n"
     ]
    }
   ],
   "source": [
    "!unzip transactions.zip"
   ]
  },
  {
   "cell_type": "markdown",
   "id": "9eb4ffe6-75df-46c8-a0cf-31584e503c54",
   "metadata": {
    "tags": []
   },
   "source": [
    "## Data Structure\n",
    "Data is a line-delimited json dataset stored in a text file.\n",
    "**The dataset has 786363 rows and 29 columns.**"
   ]
  },
  {
   "cell_type": "code",
   "execution_count": 4,
   "id": "870cb327-d841-4c53-bb85-aa6b6026b1cb",
   "metadata": {},
   "outputs": [
    {
     "name": "stdout",
     "output_type": "stream",
     "text": [
      "Data structure: 786363 rows and 29 columns.\n"
     ]
    }
   ],
   "source": [
    "path = 'transactions.txt'\n",
    "file = pd.read_json(path, lines=True)\n",
    "\n",
    "print('Data structure:',len(file),'rows and', len(file.columns), 'columns.')"
   ]
  },
  {
   "cell_type": "markdown",
   "id": "d836e868-69b5-4911-8873-ff7265b88017",
   "metadata": {
    "tags": []
   },
   "source": [
    "## Basic Summary Statistics\n",
    "\n",
    "1. Count null and unique values\n",
    "2. Identify data types <br>Continuous variables: calculate min, max, mean, standard deviation <br>Categorical variables: number of unique values and distribution"
   ]
  },
  {
   "cell_type": "code",
   "execution_count": 5,
   "id": "0d0147c1-3733-4681-8b1c-61840c0b4426",
   "metadata": {},
   "outputs": [
    {
     "data": {
      "text/html": [
       "<div>\n",
       "<style scoped>\n",
       "    .dataframe tbody tr th:only-of-type {\n",
       "        vertical-align: middle;\n",
       "    }\n",
       "\n",
       "    .dataframe tbody tr th {\n",
       "        vertical-align: top;\n",
       "    }\n",
       "\n",
       "    .dataframe thead th {\n",
       "        text-align: right;\n",
       "    }\n",
       "</style>\n",
       "<table border=\"1\" class=\"dataframe\">\n",
       "  <thead>\n",
       "    <tr style=\"text-align: right;\">\n",
       "      <th></th>\n",
       "      <th>null_ratio</th>\n",
       "      <th>nunique</th>\n",
       "    </tr>\n",
       "  </thead>\n",
       "  <tbody>\n",
       "    <tr>\n",
       "      <th>accountNumber</th>\n",
       "      <td>0.00</td>\n",
       "      <td>5000.0</td>\n",
       "    </tr>\n",
       "    <tr>\n",
       "      <th>customerId</th>\n",
       "      <td>0.00</td>\n",
       "      <td>5000.0</td>\n",
       "    </tr>\n",
       "    <tr>\n",
       "      <th>creditLimit</th>\n",
       "      <td>0.00</td>\n",
       "      <td>10.0</td>\n",
       "    </tr>\n",
       "    <tr>\n",
       "      <th>availableMoney</th>\n",
       "      <td>0.00</td>\n",
       "      <td>521915.0</td>\n",
       "    </tr>\n",
       "    <tr>\n",
       "      <th>transactionDateTime</th>\n",
       "      <td>0.00</td>\n",
       "      <td>776637.0</td>\n",
       "    </tr>\n",
       "    <tr>\n",
       "      <th>transactionAmount</th>\n",
       "      <td>0.00</td>\n",
       "      <td>66038.0</td>\n",
       "    </tr>\n",
       "    <tr>\n",
       "      <th>merchantName</th>\n",
       "      <td>0.00</td>\n",
       "      <td>2490.0</td>\n",
       "    </tr>\n",
       "    <tr>\n",
       "      <th>acqCountry</th>\n",
       "      <td>0.58</td>\n",
       "      <td>4.0</td>\n",
       "    </tr>\n",
       "    <tr>\n",
       "      <th>merchantCountryCode</th>\n",
       "      <td>0.09</td>\n",
       "      <td>4.0</td>\n",
       "    </tr>\n",
       "    <tr>\n",
       "      <th>posEntryMode</th>\n",
       "      <td>0.52</td>\n",
       "      <td>5.0</td>\n",
       "    </tr>\n",
       "    <tr>\n",
       "      <th>posConditionCode</th>\n",
       "      <td>0.05</td>\n",
       "      <td>3.0</td>\n",
       "    </tr>\n",
       "    <tr>\n",
       "      <th>merchantCategoryCode</th>\n",
       "      <td>0.00</td>\n",
       "      <td>19.0</td>\n",
       "    </tr>\n",
       "    <tr>\n",
       "      <th>currentExpDate</th>\n",
       "      <td>0.00</td>\n",
       "      <td>165.0</td>\n",
       "    </tr>\n",
       "    <tr>\n",
       "      <th>accountOpenDate</th>\n",
       "      <td>0.00</td>\n",
       "      <td>1820.0</td>\n",
       "    </tr>\n",
       "    <tr>\n",
       "      <th>dateOfLastAddressChange</th>\n",
       "      <td>0.00</td>\n",
       "      <td>2184.0</td>\n",
       "    </tr>\n",
       "    <tr>\n",
       "      <th>cardCVV</th>\n",
       "      <td>0.00</td>\n",
       "      <td>899.0</td>\n",
       "    </tr>\n",
       "    <tr>\n",
       "      <th>enteredCVV</th>\n",
       "      <td>0.00</td>\n",
       "      <td>976.0</td>\n",
       "    </tr>\n",
       "    <tr>\n",
       "      <th>cardLast4Digits</th>\n",
       "      <td>0.00</td>\n",
       "      <td>5245.0</td>\n",
       "    </tr>\n",
       "    <tr>\n",
       "      <th>transactionType</th>\n",
       "      <td>0.09</td>\n",
       "      <td>3.0</td>\n",
       "    </tr>\n",
       "    <tr>\n",
       "      <th>echoBuffer</th>\n",
       "      <td>100.00</td>\n",
       "      <td>0.0</td>\n",
       "    </tr>\n",
       "    <tr>\n",
       "      <th>currentBalance</th>\n",
       "      <td>0.00</td>\n",
       "      <td>487318.0</td>\n",
       "    </tr>\n",
       "    <tr>\n",
       "      <th>merchantCity</th>\n",
       "      <td>100.00</td>\n",
       "      <td>0.0</td>\n",
       "    </tr>\n",
       "    <tr>\n",
       "      <th>merchantState</th>\n",
       "      <td>100.00</td>\n",
       "      <td>0.0</td>\n",
       "    </tr>\n",
       "    <tr>\n",
       "      <th>merchantZip</th>\n",
       "      <td>100.00</td>\n",
       "      <td>0.0</td>\n",
       "    </tr>\n",
       "    <tr>\n",
       "      <th>cardPresent</th>\n",
       "      <td>0.00</td>\n",
       "      <td>2.0</td>\n",
       "    </tr>\n",
       "    <tr>\n",
       "      <th>posOnPremises</th>\n",
       "      <td>100.00</td>\n",
       "      <td>0.0</td>\n",
       "    </tr>\n",
       "    <tr>\n",
       "      <th>recurringAuthInd</th>\n",
       "      <td>100.00</td>\n",
       "      <td>0.0</td>\n",
       "    </tr>\n",
       "    <tr>\n",
       "      <th>expirationDateKeyInMatch</th>\n",
       "      <td>0.00</td>\n",
       "      <td>2.0</td>\n",
       "    </tr>\n",
       "    <tr>\n",
       "      <th>isFraud</th>\n",
       "      <td>0.00</td>\n",
       "      <td>2.0</td>\n",
       "    </tr>\n",
       "  </tbody>\n",
       "</table>\n",
       "</div>"
      ],
      "text/plain": [
       "                          null_ratio   nunique\n",
       "accountNumber                   0.00    5000.0\n",
       "customerId                      0.00    5000.0\n",
       "creditLimit                     0.00      10.0\n",
       "availableMoney                  0.00  521915.0\n",
       "transactionDateTime             0.00  776637.0\n",
       "transactionAmount               0.00   66038.0\n",
       "merchantName                    0.00    2490.0\n",
       "acqCountry                      0.58       4.0\n",
       "merchantCountryCode             0.09       4.0\n",
       "posEntryMode                    0.52       5.0\n",
       "posConditionCode                0.05       3.0\n",
       "merchantCategoryCode            0.00      19.0\n",
       "currentExpDate                  0.00     165.0\n",
       "accountOpenDate                 0.00    1820.0\n",
       "dateOfLastAddressChange         0.00    2184.0\n",
       "cardCVV                         0.00     899.0\n",
       "enteredCVV                      0.00     976.0\n",
       "cardLast4Digits                 0.00    5245.0\n",
       "transactionType                 0.09       3.0\n",
       "echoBuffer                    100.00       0.0\n",
       "currentBalance                  0.00  487318.0\n",
       "merchantCity                  100.00       0.0\n",
       "merchantState                 100.00       0.0\n",
       "merchantZip                   100.00       0.0\n",
       "cardPresent                     0.00       2.0\n",
       "posOnPremises                 100.00       0.0\n",
       "recurringAuthInd              100.00       0.0\n",
       "expirationDateKeyInMatch        0.00       2.0\n",
       "isFraud                         0.00       2.0"
      ]
     },
     "execution_count": 5,
     "metadata": {},
     "output_type": "execute_result"
    }
   ],
   "source": [
    "def null_ratio(pd_series):\n",
    "    return round(pd_series.isna().sum()/len(file)*100,2)\n",
    "\n",
    "file.replace('', np.nan, inplace = True)\n",
    "null_and_unique = file.agg([null_ratio, 'nunique']).T\n",
    "null_and_unique"
   ]
  },
  {
   "cell_type": "code",
   "execution_count": 6,
   "id": "3f7d8c7f-b45d-412b-9b68-345761b41727",
   "metadata": {},
   "outputs": [],
   "source": [
    "# Remove columns that are 100% null\n",
    "\n",
    "file.drop(list(null_and_unique[null_and_unique.null_ratio == 100.00].index), axis = 1, inplace = True)"
   ]
  },
  {
   "cell_type": "markdown",
   "id": "d6e30ddf-23f3-4dfc-bce1-00dce8c8cc00",
   "metadata": {},
   "source": [
    "**Continuous variables**"
   ]
  },
  {
   "cell_type": "code",
   "execution_count": 7,
   "id": "e4fbf3bb-0ea9-45cf-8e9a-70a4b3ff883d",
   "metadata": {},
   "outputs": [
    {
     "data": {
      "text/html": [
       "<div>\n",
       "<style scoped>\n",
       "    .dataframe tbody tr th:only-of-type {\n",
       "        vertical-align: middle;\n",
       "    }\n",
       "\n",
       "    .dataframe tbody tr th {\n",
       "        vertical-align: top;\n",
       "    }\n",
       "\n",
       "    .dataframe thead th {\n",
       "        text-align: right;\n",
       "    }\n",
       "</style>\n",
       "<table border=\"1\" class=\"dataframe\">\n",
       "  <thead>\n",
       "    <tr style=\"text-align: right;\">\n",
       "      <th></th>\n",
       "      <th>min</th>\n",
       "      <th>max</th>\n",
       "      <th>mean</th>\n",
       "      <th>std</th>\n",
       "    </tr>\n",
       "  </thead>\n",
       "  <tbody>\n",
       "    <tr>\n",
       "      <th>creditLimit</th>\n",
       "      <td>250.00</td>\n",
       "      <td>50000.00</td>\n",
       "      <td>10759.464459</td>\n",
       "      <td>11636.174890</td>\n",
       "    </tr>\n",
       "    <tr>\n",
       "      <th>availableMoney</th>\n",
       "      <td>-1005.63</td>\n",
       "      <td>50000.00</td>\n",
       "      <td>6250.725369</td>\n",
       "      <td>8880.783989</td>\n",
       "    </tr>\n",
       "    <tr>\n",
       "      <th>currentBalance</th>\n",
       "      <td>0.00</td>\n",
       "      <td>47498.81</td>\n",
       "      <td>4508.739089</td>\n",
       "      <td>6457.442068</td>\n",
       "    </tr>\n",
       "    <tr>\n",
       "      <th>transactionAmount</th>\n",
       "      <td>0.00</td>\n",
       "      <td>2011.54</td>\n",
       "      <td>136.985791</td>\n",
       "      <td>147.725569</td>\n",
       "    </tr>\n",
       "  </tbody>\n",
       "</table>\n",
       "</div>"
      ],
      "text/plain": [
       "                       min       max          mean           std\n",
       "creditLimit         250.00  50000.00  10759.464459  11636.174890\n",
       "availableMoney    -1005.63  50000.00   6250.725369   8880.783989\n",
       "currentBalance        0.00  47498.81   4508.739089   6457.442068\n",
       "transactionAmount     0.00   2011.54    136.985791    147.725569"
      ]
     },
     "execution_count": 7,
     "metadata": {},
     "output_type": "execute_result"
    }
   ],
   "source": [
    "continuous = ['creditLimit','availableMoney', 'currentBalance', 'transactionAmount']\n",
    "summary_continuous = file[continuous].agg(['min', 'max', 'mean', 'std']).T\n",
    "\n",
    "summary_continuous"
   ]
  },
  {
   "cell_type": "markdown",
   "id": "c473985f-3395-42bc-b91f-fef3f61ac132",
   "metadata": {},
   "source": [
    "Available money have negative values, this could due to overdraft.\n",
    "\n",
    "**Categorical variables**"
   ]
  },
  {
   "cell_type": "code",
   "execution_count": 8,
   "id": "5158b910-94bd-438b-8894-09bcacbc58ef",
   "metadata": {},
   "outputs": [
    {
     "data": {
      "text/html": [
       "<div>\n",
       "<style scoped>\n",
       "    .dataframe tbody tr th:only-of-type {\n",
       "        vertical-align: middle;\n",
       "    }\n",
       "\n",
       "    .dataframe tbody tr th {\n",
       "        vertical-align: top;\n",
       "    }\n",
       "\n",
       "    .dataframe thead th {\n",
       "        text-align: right;\n",
       "    }\n",
       "</style>\n",
       "<table border=\"1\" class=\"dataframe\">\n",
       "  <thead>\n",
       "    <tr style=\"text-align: right;\">\n",
       "      <th></th>\n",
       "      <th>nunique</th>\n",
       "      <th>unique</th>\n",
       "    </tr>\n",
       "  </thead>\n",
       "  <tbody>\n",
       "    <tr>\n",
       "      <th>creditLimit</th>\n",
       "      <td>10</td>\n",
       "      <td>[5000, 2500, 50000, 15000, 10000, 250, 500, 10...</td>\n",
       "    </tr>\n",
       "    <tr>\n",
       "      <th>acqCountry</th>\n",
       "      <td>4</td>\n",
       "      <td>[US, nan, CAN, MEX, PR]</td>\n",
       "    </tr>\n",
       "    <tr>\n",
       "      <th>merchantCountryCode</th>\n",
       "      <td>4</td>\n",
       "      <td>[US, CAN, nan, PR, MEX]</td>\n",
       "    </tr>\n",
       "    <tr>\n",
       "      <th>posEntryMode</th>\n",
       "      <td>5</td>\n",
       "      <td>[02, 09, 05, 80, 90, nan]</td>\n",
       "    </tr>\n",
       "    <tr>\n",
       "      <th>posConditionCode</th>\n",
       "      <td>3</td>\n",
       "      <td>[01, 08, 99, nan]</td>\n",
       "    </tr>\n",
       "    <tr>\n",
       "      <th>merchantCategoryCode</th>\n",
       "      <td>19</td>\n",
       "      <td>[rideshare, entertainment, mobileapps, fastfoo...</td>\n",
       "    </tr>\n",
       "    <tr>\n",
       "      <th>transactionType</th>\n",
       "      <td>3</td>\n",
       "      <td>[PURCHASE, ADDRESS_VERIFICATION, REVERSAL, nan]</td>\n",
       "    </tr>\n",
       "    <tr>\n",
       "      <th>cardPresent</th>\n",
       "      <td>2</td>\n",
       "      <td>[False, True]</td>\n",
       "    </tr>\n",
       "    <tr>\n",
       "      <th>expirationDateKeyInMatch</th>\n",
       "      <td>2</td>\n",
       "      <td>[False, True]</td>\n",
       "    </tr>\n",
       "    <tr>\n",
       "      <th>isFraud</th>\n",
       "      <td>2</td>\n",
       "      <td>[False, True]</td>\n",
       "    </tr>\n",
       "  </tbody>\n",
       "</table>\n",
       "</div>"
      ],
      "text/plain": [
       "                         nunique  \\\n",
       "creditLimit                   10   \n",
       "acqCountry                     4   \n",
       "merchantCountryCode            4   \n",
       "posEntryMode                   5   \n",
       "posConditionCode               3   \n",
       "merchantCategoryCode          19   \n",
       "transactionType                3   \n",
       "cardPresent                    2   \n",
       "expirationDateKeyInMatch       2   \n",
       "isFraud                        2   \n",
       "\n",
       "                                                                     unique  \n",
       "creditLimit               [5000, 2500, 50000, 15000, 10000, 250, 500, 10...  \n",
       "acqCountry                                          [US, nan, CAN, MEX, PR]  \n",
       "merchantCountryCode                                 [US, CAN, nan, PR, MEX]  \n",
       "posEntryMode                                      [02, 09, 05, 80, 90, nan]  \n",
       "posConditionCode                                          [01, 08, 99, nan]  \n",
       "merchantCategoryCode      [rideshare, entertainment, mobileapps, fastfoo...  \n",
       "transactionType             [PURCHASE, ADDRESS_VERIFICATION, REVERSAL, nan]  \n",
       "cardPresent                                                   [False, True]  \n",
       "expirationDateKeyInMatch                                      [False, True]  \n",
       "isFraud                                                       [False, True]  "
      ]
     },
     "execution_count": 8,
     "metadata": {},
     "output_type": "execute_result"
    }
   ],
   "source": [
    "categorical = [i for i in list(null_and_unique[null_and_unique['nunique']<100].index) if i in file.columns]\n",
    "file[categorical].agg(['nunique','unique']).T"
   ]
  },
  {
   "cell_type": "markdown",
   "id": "38ea77a2-6b83-41a3-9d4e-f54ceadda384",
   "metadata": {},
   "source": [
    " Only consider non-null columns that have <= 100 unique values as categorical variables. I will deal with ids and dates variables in feature engineering."
   ]
  },
  {
   "cell_type": "markdown",
   "id": "1e0c8075-26e1-4f15-871c-e49a9806cdfb",
   "metadata": {},
   "source": [
    "# Part 2: Plot"
   ]
  },
  {
   "cell_type": "markdown",
   "id": "ac9fa3fe-cab1-4b32-839e-3096baf5db31",
   "metadata": {},
   "source": [
    "## Histogram and Observation"
   ]
  },
  {
   "cell_type": "code",
   "execution_count": 9,
   "id": "c5ab0eca-3501-478b-868f-aaba26747cd9",
   "metadata": {},
   "outputs": [
    {
     "data": {
      "image/png": "[encoded data removed]",
      "text/plain": [
       "<Figure size 360x360 with 1 Axes>"
      ]
     },
     "metadata": {
      "needs_background": "light"
     },
     "output_type": "display_data"
    }
   ],
   "source": [
    "col = 'transactionAmount'  # only need to change this\n",
    "\n",
    "fig, axes = plt.subplots(1,1, figsize = (5,5))\n",
    "axes.set_title(col)      \n",
    "sns.histplot(data=file, x=col, color= '#8ba8d8', bins = 20, alpha=0.8, ax = axes)\n",
    "axes.set_ylabel('Frequency')\n",
    "axes.set_xlabel('$')\n",
    "\n",
    "plt.tight_layout()\n",
    "plt.show()"
   ]
  },
  {
   "cell_type": "markdown",
   "id": "f2c76eb5-4273-484a-b038-23e6ac730052",
   "metadata": {},
   "source": [
    "**Transaction Amount** is a continuous variable. Data is right-skewed and seems to follow a lognormal distribution, which makes sense as most common transactions are small-amount transactions. I will normalize it during the modeling process."
   ]
  },
  {
   "cell_type": "code",
   "execution_count": 10,
   "id": "7767f477-f4e1-4ae6-a4ee-453803ca5c47",
   "metadata": {},
   "outputs": [
    {
     "data": {
      "image/png": "[encoded data removed]",
      "text/plain": [
       "<Figure size 720x360 with 2 Axes>"
      ]
     },
     "metadata": {
      "needs_background": "light"
     },
     "output_type": "display_data"
    }
   ],
   "source": [
    "# Histogram of average xxx feature by account\n",
    "\n",
    "feature_of_interest = ['currentBalance', 'availableMoney']  # only need to change this\n",
    "\n",
    "fig, axes = plt.subplots(1, 2, figsize = (10, 5))\n",
    "j = 0\n",
    "\n",
    "for col in feature_of_interest:\n",
    "    \n",
    "    feature_by_person = file[[col, 'accountNumber']].groupby('accountNumber').mean().reset_index()\n",
    "    sns.histplot(data=feature_by_person, x=col, color = '#76a08b', alpha = 0.6, bins = 20, ax=axes[j])\n",
    "    axes[j].set_ylabel('Count')\n",
    "    axes[j].set_title('Average '+col+', by person')\n",
    "    axes[j].set_xlabel('$')\n",
    "    j += 1\n",
    "\n",
    "plt.tight_layout()\n",
    "plt.show()"
   ]
  },
  {
   "cell_type": "markdown",
   "id": "bd2217e3-6855-4950-b80f-ce72a41ffecb",
   "metadata": {
    "tags": []
   },
   "source": [
    "For these two variables, I think it makes more sense to see it at a personal level since their 'plain' distribution is affected a lot by different user behaviors.\n",
    "\n",
    "**Current Balance**: Right skewed. Average is 4.5k, standard deviation from the mean is around 6.5k.\n",
    "\n",
    "**Available Money**: Right skewed. Average is 6.25k, standard deviation from mean is also high, around 8.9k. There is a spike at 50k range, I think it shows for people with a high credit limit, doesn't usually spend more, or carry a high balance.\n",
    "\n",
    "All need to be normalized."
   ]
  },
  {
   "cell_type": "code",
   "execution_count": 11,
   "id": "63f8f7f4-2063-478b-a206-1b6667aaf552",
   "metadata": {},
   "outputs": [
    {
     "data": {
      "text/plain": [
       "Text(0.5, 0, 'Count')"
      ]
     },
     "execution_count": 11,
     "metadata": {},
     "output_type": "execute_result"
    },
    {
     "data": {
      "image/png": "[encoded data removed]",
      "text/plain": [
       "<Figure size 504x360 with 1 Axes>"
      ]
     },
     "metadata": {
      "needs_background": "light"
     },
     "output_type": "display_data"
    }
   ],
   "source": [
    "# Distribution of credit limit\n",
    "\n",
    "col = 'creditLimit'\n",
    "fig, axes = plt.subplots(1,1, figsize = (7,5))\n",
    "\n",
    "credit_by_person = file[[col, 'accountNumber']].groupby(col).nunique().reset_index()\n",
    "\n",
    "sns.barplot(data=credit_by_person, x=col, y='accountNumber', edgecolor=\".2\", alpha = 0.7, ax=axes)\n",
    "axes.set_ylabel('Credit Limit')\n",
    "axes.set_title('Credit Limit Distribution')\n",
    "axes.set_xlabel('Count')"
   ]
  },
  {
   "cell_type": "markdown",
   "id": "902e97b9-0300-4ebf-ad80-9ea059b3738d",
   "metadata": {},
   "source": [
    "**Credit Limit**: Credit limit has 10 unique values, it can also be treated as a categorical variable. 5k is the most common credit limit. Average credit limit is 10k. A lot of people have high credit limits. Here I also verify another assumption that each account number only has one credit limit, though he/she can have more than one card."
   ]
  },
  {
   "cell_type": "code",
   "execution_count": 12,
   "id": "42f8ccb6-85f8-4617-93d9-92bf3813c7e6",
   "metadata": {},
   "outputs": [
    {
     "data": {
      "text/plain": [
       "True"
      ]
     },
     "execution_count": 12,
     "metadata": {},
     "output_type": "execute_result"
    }
   ],
   "source": [
    "credit_by_person['accountNumber'].sum() == 5000"
   ]
  },
  {
   "cell_type": "code",
   "execution_count": 13,
   "id": "bfda04fb-c889-4adb-8e54-1cea93ee02c3",
   "metadata": {},
   "outputs": [],
   "source": [
    "# Temporarily drop it, will see the distribution later\n",
    "\n",
    "categorical.remove('merchantCategoryCode') "
   ]
  },
  {
   "cell_type": "code",
   "execution_count": 14,
   "id": "acdee694-b701-4fd9-8178-1750b962ab2a",
   "metadata": {
    "tags": []
   },
   "outputs": [
    {
     "data": {
      "image/png": "[encoded data removed]",
      "text/plain": [
       "<Figure size 1080x1080 with 9 Axes>"
      ]
     },
     "metadata": {
      "needs_background": "light"
     },
     "output_type": "display_data"
    }
   ],
   "source": [
    "# This script draw histograms for the categorical variables and combine them as a n*3 chart. Previous input are used.\n",
    "\n",
    "i, j = 0, 0\n",
    "fig, axes = plt.subplots(round(len(categorical)/3), 3, figsize = (15, 15))\n",
    "\n",
    "for col in sorted(categorical):\n",
    "\n",
    "    n_unique = int(null_and_unique.loc[col]['nunique'])\n",
    "    sns.histplot(data=file, x=col, bins = n_unique*2, hue = 'isFraud',\n",
    "                 ax = axes[i,j], shrink = 0.8, alpha = 0.5) \n",
    "    axes[i,j].set_xlabel('')\n",
    "    axes[i,j].set_title(col)\n",
    "    \n",
    "    if n_unique == 2:  # for binary values\n",
    "        axes[i,j].set_xticks([0.1,0.9])\n",
    "        axes[i,j].set_xticklabels(['True', 'False'])\n",
    "    \n",
    "    if j == 2: \n",
    "        i += 1\n",
    "        j = 0\n",
    "    else: \n",
    "        j += 1\n",
    "\n",
    "plt.tight_layout()\n",
    "plt.show()"
   ]
  },
  {
   "cell_type": "markdown",
   "id": "416638c9-bbdb-4bfc-b66c-f38697d5fb1b",
   "metadata": {},
   "source": [
    "## Observation from Categorical Variables\n",
    "\n",
    "**acqCountry**: Similar to merchantCountryCode, but different distribution. I assume it indicates that most transactions happened in the US.\n",
    "<br>**cardPresent**: Card-present versus card-not-present is around 55/45, fraudulent events seem to happen more often on card-present transactions.\n",
    "<br>**creditLimit**: Transactions that happened with lower credit limit accounts tend to have a higher possibility to be a fraud.\n",
    "<br>**experationDateInMatch**: Highly imbalanced feature, most cases are matched. I will take a look at the 'False' situation in feature engineering, check if they tend to be fraudulent.\n",
    "<br>**isFraud**: Our target feature. Highly imbalanced. It would impact the feature engineering and model choosing process.\n",
    "<br>**merchantCountryCode**: As discussed with acqCountry, this feature also shows most transactions happened in the US or were based on the US.\n",
    "<br>**posConditionCode**: I referred to https://www.mreports.com/documentation/ac/nonmerchant/80449.htm, and find there is no code 99, which might indicate invalid information.\n",
    "<br>**posEntryMode**: I referred to https://www.mreports.com/documentation/ac/nonmerchant/80451.htm.\n",
    "<br>**transactionType**: It provides 3 types of transactions: purchase, reversal, and address verification."
   ]
  },
  {
   "cell_type": "code",
   "execution_count": 15,
   "id": "26aa2b2e-c354-419c-bdb8-8d9431b823b0",
   "metadata": {},
   "outputs": [
    {
     "data": {
      "text/plain": [
       "Text(0.5, 1.0, 'Transaction Distribution by Merchant Category')"
      ]
     },
     "execution_count": 15,
     "metadata": {},
     "output_type": "execute_result"
    },
    {
     "data": {
      "image/png": "[encoded data removed]",
      "text/plain": [
       "<Figure size 720x720 with 1 Axes>"
      ]
     },
     "metadata": {
      "needs_background": "light"
     },
     "output_type": "display_data"
    }
   ],
   "source": [
    "col = 'merchantCategoryCode'\n",
    "\n",
    "fig, axes = plt.subplots(1,1, figsize = (10,10))\n",
    "sns.histplot(data=file, y=col, hue = 'isFraud', bins = n_unique*2, #color= '#c5cff0', \n",
    "             ax = axes, shrink = 0.8)\n",
    "axes.set_xlabel('Count')\n",
    "axes.set_title('Transaction Distribution by Merchant Category')"
   ]
  },
  {
   "cell_type": "markdown",
   "id": "2ef870a2-ee43-4b90-8c64-cd81c5620bc3",
   "metadata": {},
   "source": [
    "About 1/4 of transactions are online retail purchases. A lot of frauds also are in this category, which matches with my intuition. This feature has a lot of labels, some categories are very close, for example, food, fast_food and food_delievery. If the final dataset is too sparse I may try to combine some of the categories."
   ]
  },
  {
   "cell_type": "markdown",
   "id": "5d648e7e-47c2-4892-9b56-9a6387fcc66a",
   "metadata": {
    "tags": []
   },
   "source": [
    "## Summary of Hypotheses and Exploration\n",
    "1. Column **accountNumber** and **customerId** are identical.\n",
    "\n",
    "2. Each account is assigned with **one credit limit**, though one account can have **multiple credit cards**.\n",
    "\n",
    "3. Equation **creditLimit = currentBalance + availableMoney** holds for all transaction records. Need to remove one for multicollinearity-sensitive models.\n",
    "\n",
    "4. Most **transactionMmount** are less than **moneyAvailable**, I can see that a small amount of overdraft is allowed, which could explain the negative figures in available money.\n",
    "\n",
    "5. **acqCountry** and **mechantCountryCode** are not always (0.5% of time) the same.\n",
    "\n",
    "6. Dataset is sorted by **accountNumber** and **transactionDateTime** in ascending order."
   ]
  },
  {
   "cell_type": "code",
   "execution_count": 16,
   "id": "3655072c-2c25-40a6-b6fd-3a1d7c01a26a",
   "metadata": {},
   "outputs": [
    {
     "name": "stdout",
     "output_type": "stream",
     "text": [
      "True\n"
     ]
    }
   ],
   "source": [
    "# Check accountNumber and customerId are identical\n",
    "\n",
    "if sum(file.accountNumber == file.customerId) == len(file):\n",
    "    file.drop('customerId', axis=1, inplace=True)\n",
    "    print('True')"
   ]
  },
  {
   "cell_type": "code",
   "execution_count": 17,
   "id": "bc474e72-1898-4e3f-9b07-733f083e60d9",
   "metadata": {},
   "outputs": [
    {
     "data": {
      "text/plain": [
       "True"
      ]
     },
     "execution_count": 17,
     "metadata": {},
     "output_type": "execute_result"
    }
   ],
   "source": [
    "# Check the euqation: creditLimit = currentBalance + availableMoney\n",
    "\n",
    "sum(file.creditLimit.astype(int) == (file.currentBalance + file.availableMoney).round(0)) == len(file)"
   ]
  },
  {
   "cell_type": "code",
   "execution_count": 18,
   "id": "8833b0cf-ca2b-4799-8fbc-926cef21d3f1",
   "metadata": {},
   "outputs": [
    {
     "data": {
      "text/plain": [
       "0.9617924546297321"
      ]
     },
     "execution_count": 18,
     "metadata": {},
     "output_type": "execute_result"
    }
   ],
   "source": [
    "# Check if transactionAmount is always less than available. (Strength of overdraft protection)\n",
    "\n",
    "sum(file.transactionAmount < file.availableMoney)/len(file)"
   ]
  },
  {
   "cell_type": "code",
   "execution_count": 19,
   "id": "2d5ba32d-ed5e-4192-b527-3bd214ea1b09",
   "metadata": {},
   "outputs": [
    {
     "data": {
      "text/plain": [
       "0.9941095906089172"
      ]
     },
     "execution_count": 19,
     "metadata": {},
     "output_type": "execute_result"
    }
   ],
   "source": [
    "# Check if acqCountry and merchantCountryCode are identical\n",
    "\n",
    "sum(file.acqCountry == file.merchantCountryCode)/len(file)"
   ]
  },
  {
   "cell_type": "markdown",
   "id": "2437a146-5b6c-4e9b-822a-e530a53248d3",
   "metadata": {},
   "source": [
    "# Part 3: Data wrangling - duplicate transactions"
   ]
  },
  {
   "cell_type": "markdown",
   "id": "37e83919-bc1f-4c7c-9b53-8e10231f0634",
   "metadata": {},
   "source": [
    "## Reversed transactions \n",
    "\n",
    "They can be identified from transaction type."
   ]
  },
  {
   "cell_type": "code",
   "execution_count": 20,
   "id": "eea41fc5-b5be-41f8-a6a6-baa9c0aa55cb",
   "metadata": {},
   "outputs": [
    {
     "data": {
      "text/html": [
       "<div>\n",
       "<style scoped>\n",
       "    .dataframe tbody tr th:only-of-type {\n",
       "        vertical-align: middle;\n",
       "    }\n",
       "\n",
       "    .dataframe tbody tr th {\n",
       "        vertical-align: top;\n",
       "    }\n",
       "\n",
       "    .dataframe thead th {\n",
       "        text-align: right;\n",
       "    }\n",
       "</style>\n",
       "<table border=\"1\" class=\"dataframe\">\n",
       "  <thead>\n",
       "    <tr style=\"text-align: right;\">\n",
       "      <th></th>\n",
       "      <th>reversal</th>\n",
       "    </tr>\n",
       "  </thead>\n",
       "  <tbody>\n",
       "    <tr>\n",
       "      <th>number_of_transactions</th>\n",
       "      <td>20303.0</td>\n",
       "    </tr>\n",
       "    <tr>\n",
       "      <th>total_dollar_amount</th>\n",
       "      <td>2821792.5</td>\n",
       "    </tr>\n",
       "  </tbody>\n",
       "</table>\n",
       "</div>"
      ],
      "text/plain": [
       "                         reversal\n",
       "number_of_transactions    20303.0\n",
       "total_dollar_amount     2821792.5"
      ]
     },
     "execution_count": 20,
     "metadata": {},
     "output_type": "execute_result"
    }
   ],
   "source": [
    "reversal = file[file.transactionType == 'REVERSAL'].agg(number_of_transactions = ('transactionAmount','count'), \n",
    "                                                        total_dollar_amount = ('transactionAmount','sum')).rename(columns = {'transactionAmount':'reversal'})                               \n",
    "\n",
    "reversal"
   ]
  },
  {
   "cell_type": "code",
   "execution_count": 21,
   "id": "4d34e7cc-5546-4a90-9d0f-223e37df55f6",
   "metadata": {},
   "outputs": [
    {
     "data": {
      "text/plain": [
       "True"
      ]
     },
     "execution_count": 21,
     "metadata": {},
     "output_type": "execute_result"
    }
   ],
   "source": [
    "# Verify the label: if a transaction can be reversed, it must have an 'orginal' transaction with same accountNumber, merchantName, cardLast4Digits.\n",
    "\n",
    "len(file[(file[['accountNumber', 'merchantName', 'cardLast4Digits']].duplicated()) & (file.transactionType == 'REVERSAL')]) == 20303"
   ]
  },
  {
   "cell_type": "markdown",
   "id": "1ff23622-c577-4abf-95ca-645fdae61a97",
   "metadata": {
    "tags": []
   },
   "source": [
    "## Multi-swipe Transactions\n",
    "\n",
    "My assumptions:\n",
    "1. Multi-swipe should happen when using the **same card** with the **same merchant**.\n",
    "2. The **transaction amount** would be **exactly the same** during multi-swipe since it is an accident.\n",
    "3. Maximum **time span** between swipes set to **1 hour**."
   ]
  },
  {
   "cell_type": "code",
   "execution_count": 22,
   "id": "fe1c05b9-73a2-48dd-9841-b7d26d76946b",
   "metadata": {},
   "outputs": [
    {
     "data": {
      "text/plain": [
       "<AxesSubplot:ylabel='Count'>"
      ]
     },
     "execution_count": 22,
     "metadata": {},
     "output_type": "execute_result"
    },
    {
     "data": {
      "image/png": "[encoded data removed]",
      "text/plain": [
       "<Figure size 432x288 with 1 Axes>"
      ]
     },
     "metadata": {
      "needs_background": "light"
     },
     "output_type": "display_data"
    }
   ],
   "source": [
    "'''\n",
    "new column - lastTransaction: timedelta since last transaction with specific merchant using the same card.\n",
    "\n",
    "'''\n",
    "\n",
    "file['transactionDateTime'] = pd.to_datetime(file.transactionDateTime)\n",
    "file['lastTransaction'] = file['transactionDateTime'] - \\\n",
    "file.groupby(['accountNumber', 'merchantName', 'transactionAmount', 'cardLast4Digits'])['transactionDateTime'].shift()\n",
    "\n",
    "sns.histplot([i for i in file.lastTransaction.dt.total_seconds()/3600 if i<168], bins = 50)"
   ]
  },
  {
   "cell_type": "markdown",
   "id": "22edc469-c702-49c9-be01-26e102c02db7",
   "metadata": {},
   "source": [
    "From this plot, I determine to use 1 hour as the **time span** to define multi-swipe. For the lower bars at around 150-175 hours, they might be routine charges such as weekly subscriptions."
   ]
  },
  {
   "cell_type": "code",
   "execution_count": 23,
   "id": "3f177f84-c1bc-4478-ae2c-cb032d637ea8",
   "metadata": {},
   "outputs": [
    {
     "data": {
      "text/html": [
       "<div>\n",
       "<style scoped>\n",
       "    .dataframe tbody tr th:only-of-type {\n",
       "        vertical-align: middle;\n",
       "    }\n",
       "\n",
       "    .dataframe tbody tr th {\n",
       "        vertical-align: top;\n",
       "    }\n",
       "\n",
       "    .dataframe thead th {\n",
       "        text-align: right;\n",
       "    }\n",
       "</style>\n",
       "<table border=\"1\" class=\"dataframe\">\n",
       "  <thead>\n",
       "    <tr style=\"text-align: right;\">\n",
       "      <th></th>\n",
       "      <th>reversal</th>\n",
       "      <th>multi_swipe</th>\n",
       "    </tr>\n",
       "  </thead>\n",
       "  <tbody>\n",
       "    <tr>\n",
       "      <th>number_of_transactions</th>\n",
       "      <td>20303.0</td>\n",
       "      <td>7451.00</td>\n",
       "    </tr>\n",
       "    <tr>\n",
       "      <th>total_dollar_amount</th>\n",
       "      <td>2821792.5</td>\n",
       "      <td>1103132.25</td>\n",
       "    </tr>\n",
       "  </tbody>\n",
       "</table>\n",
       "</div>"
      ],
      "text/plain": [
       "                         reversal  multi_swipe\n",
       "number_of_transactions    20303.0      7451.00\n",
       "total_dollar_amount     2821792.5   1103132.25"
      ]
     },
     "execution_count": 23,
     "metadata": {},
     "output_type": "execute_result"
    }
   ],
   "source": [
    "# Ignored null values in transaction type as they are very rare cases and hard to classify. \n",
    "\n",
    "multiple = file[(file[['accountNumber', 'merchantName', 'transactionAmount', 'cardLast4Digits']].duplicated()) & \n",
    "                (file.lastTransaction < timedelta(hours=1)) &\n",
    "                (file.transactionType=='PURCHASE')]\n",
    "\n",
    "multi_swipe = multiple.agg(number_of_transactions = ('transactionAmount','count'), \n",
    "                           total_dollar_amount = ('transactionAmount','sum')).rename(columns = {'transactionAmount':'multi_swipe'})\n",
    "\n",
    "summary = pd.concat([reversal, multi_swipe], axis = 1)\n",
    "summary"
   ]
  },
  {
   "cell_type": "markdown",
   "id": "dbbbe8dd-68cc-48b2-93b7-a1b574dd5edb",
   "metadata": {},
   "source": [
    "Estimated number of **reversed transactions** is 20303, total dollar amount is ~2.82 million.<br>Estimated number of **multi-swipe transactions** is 7451, total dollar amount is ~1.1 million."
   ]
  },
  {
   "cell_type": "markdown",
   "id": "fa83bea2-e4e9-43ab-a905-03ee082e3925",
   "metadata": {},
   "source": [
    "## My Thoughts\n",
    "1. I am surprised to see these many multi-swipe transactions happen. \n",
    "2. If it can be programmatically identified, maybe we can add a **detection feature** during transactions to ask the customers to **verify** the second/third purchases through mobile app pop-ups, emails, or phone calls. \n",
    "3. It may potentially **save costs** in reimbursement and labor in processing the dispute and make a **reliable brand** for our users."
   ]
  },
  {
   "cell_type": "code",
   "execution_count": 24,
   "id": "89574dc1-f0d4-465a-bb2f-b0c783e45106",
   "metadata": {},
   "outputs": [],
   "source": [
    "pd.to_pickle(file, 'data.pkl')"
   ]
  },
  {
   "cell_type": "code",
   "execution_count": null,
   "id": "8c0803bd-49f2-49ac-babb-e746526cbbfe",
   "metadata": {},
   "outputs": [],
   "source": []
  }
 ],
 "metadata": {
  "kernelspec": {
   "display_name": "Python 3 (ipykernel)",
   "language": "python",
   "name": "python3"
  },
  "language_info": {
   "codemirror_mode": {
    "name": "ipython",
    "version": 3
   },
   "file_extension": ".py",
   "mimetype": "text/x-python",
   "name": "python",
   "nbconvert_exporter": "python",
   "pygments_lexer": "ipython3",
   "version": "3.9.10"
  }
 },
 "nbformat": 4,
 "nbformat_minor": 5
}
